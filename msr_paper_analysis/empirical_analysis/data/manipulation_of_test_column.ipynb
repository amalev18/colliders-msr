{
 "cells": [
  {
   "cell_type": "code",
   "execution_count": 11,
   "metadata": {},
   "outputs": [],
   "source": [
    "import pandas as pd\n",
    "\n",
    "# Read the original dataset utilized when conducting their predictions\n",
    "original_dataset = pd.read_csv(\"commit_all_features.csv\")\n",
    "\n",
    "# Read the file generated in the original \"feature_extraction.ipynb\", but including the \n",
    "# test refactoring only commit data.\n",
    "commit_level_features_w_test = pd.read_csv('commit_level_features_w_test.csv')\n"
   ]
  },
  {
   "cell_type": "code",
   "execution_count": 12,
   "metadata": {},
   "outputs": [
    {
     "name": "stdout",
     "output_type": "stream",
     "text": [
      "Columns missing test data: {'num_touched_before', 'id', 'dev_ref_com_exp', 'dev_ref_exp', 'age'}\n"
     ]
    }
   ],
   "source": [
    "all_columns = set(original_dataset.columns)\n",
    "columns_w_test_data = set(commit_level_features_w_test.columns)\n",
    "\n",
    "# Find differences in columns\n",
    "columns_missing_test_data = all_columns - columns_w_test_data\n",
    "columns_only_in_commit = columns_w_test_data - all_columns\n",
    "\n",
    "print(f\"Columns missing test data: {columns_missing_test_data}\")\n"
   ]
  },
  {
   "cell_type": "code",
   "execution_count": 13,
   "metadata": {},
   "outputs": [
    {
     "name": "stdout",
     "output_type": "stream",
     "text": [
      "                      commit_id  refactoryCount  leftLocationCount  \\\n",
      "0      5a85632d77d2b433df71b6b2               9                 19   \n",
      "1      5a8562cc77d2b433dc711f29               2                  4   \n",
      "2      5a8562cc77d2b433df712a61              35                 47   \n",
      "3      5a85633977d2b433df71c388               7                 10   \n",
      "4      5a85633a77d2b433df71c3a3              12                 22   \n",
      "...                         ...             ...                ...   \n",
      "53824  6076b764617b52e8e406de9d              11                 14   \n",
      "53825  6076b765617b52e8e406df47               3                  5   \n",
      "53826  6076b766617b52e8e406dfb8               4                  7   \n",
      "53827  6076b766617b52e8e406dfc5              10                 13   \n",
      "53828  6076b767617b52e8e406e08b               1                  2   \n",
      "\n",
      "       rightLocationCount  leftLocationDiff  rightLocationDiff  \\\n",
      "0                      29               173                191   \n",
      "1                       4                32                 57   \n",
      "2                      55               550                561   \n",
      "3                      10                99                 99   \n",
      "4                      22               219                219   \n",
      "...                   ...               ...                ...   \n",
      "53824                  11                69                201   \n",
      "53825                   5               136                171   \n",
      "53826                   8               275                316   \n",
      "53827                  13               180                180   \n",
      "53828                   3                17                 95   \n",
      "\n",
      "       fileTouchCount  fileTouchAverage  codeElementCount  refactoryTypeCount  \\\n",
      "0                   2          1.333333                 7                   7   \n",
      "1                   1          1.000000                 2                   1   \n",
      "2                   4          1.000000                 8                  10   \n",
      "3                   4          1.000000                 3                   3   \n",
      "4                   4          1.000000                 3                   3   \n",
      "...               ...               ...               ...                 ...   \n",
      "53824               1          1.000000                 3                   4   \n",
      "53825               2          1.666667                 4                   3   \n",
      "53826               1          1.000000                 3                   3   \n",
      "53827               3          1.000000                 4                   4   \n",
      "53828               1          1.000000                 3                   1   \n",
      "\n",
      "       ...  LABELED_STATEMENT  FOR_STATEMENT_CONDITION  \\\n",
      "0      ...                0.0                      0.0   \n",
      "1      ...                0.0                      0.0   \n",
      "2      ...                0.0                      0.0   \n",
      "3      ...                0.0                      0.0   \n",
      "4      ...                0.0                      0.0   \n",
      "...    ...                ...                      ...   \n",
      "53824  ...                0.0                      0.0   \n",
      "53825  ...                0.0                      0.0   \n",
      "53826  ...                0.0                      0.0   \n",
      "53827  ...                0.0                      0.0   \n",
      "53828  ...                0.0                      0.0   \n",
      "\n",
      "       TRY_STATEMENT_RESOURCE  WHILE_STATEMENT_CONDITION  \\\n",
      "0                         0.0                        0.0   \n",
      "1                         0.0                        0.0   \n",
      "2                         0.0                        0.0   \n",
      "3                         0.0                        0.0   \n",
      "4                         0.0                        0.0   \n",
      "...                       ...                        ...   \n",
      "53824                     0.0                        0.0   \n",
      "53825                     0.0                        0.0   \n",
      "53826                     0.0                        0.0   \n",
      "53827                     0.0                        0.0   \n",
      "53828                     0.0                        0.0   \n",
      "\n",
      "       LAMBDA_EXPRESSION_BODY  SYNCHRONIZED_STATEMENT_EXPRESSION  \\\n",
      "0                         0.0                                0.0   \n",
      "1                         0.0                                0.0   \n",
      "2                         0.0                                0.0   \n",
      "3                         0.0                                0.0   \n",
      "4                         0.0                                0.0   \n",
      "...                       ...                                ...   \n",
      "53824                     0.0                                0.0   \n",
      "53825                     0.0                                0.0   \n",
      "53826                     0.0                                0.0   \n",
      "53827                     0.0                                0.0   \n",
      "53828                     0.0                                0.0   \n",
      "\n",
      "       DO_STATEMENT_CONDITION      label  TR  SR  \n",
      "0                         0.0        NaN   1   0  \n",
      "1                         0.0        NaN   1   0  \n",
      "2                         0.0        NaN   1   0  \n",
      "3                         0.0   co-occur   1   1  \n",
      "4                         0.0   co-occur   1   1  \n",
      "...                       ...        ...  ..  ..  \n",
      "53824                     0.0  prod_only   0   1  \n",
      "53825                     0.0  prod_only   0   1  \n",
      "53826                     0.0  prod_only   0   1  \n",
      "53827                     0.0  prod_only   0   1  \n",
      "53828                     0.0  prod_only   0   1  \n",
      "\n",
      "[53829 rows x 147 columns]\n"
     ]
    }
   ],
   "source": [
    "# Create a new column 'TR' based on 'test'\n",
    "commit_level_features_w_test['TR'] = commit_level_features_w_test['test'].apply(lambda x: 1 if pd.isna(x) or 'True' in str(x) else 0)\n",
    "\n",
    "# Create a new column 'SR' based on 'test\n",
    "commit_level_features_w_test['SR'] = commit_level_features_w_test['test'].apply(lambda x: 0 if pd.isna(x) else 1)\n",
    "\n",
    "# Drop the columns 'test' and 'label'\n",
    "commit_level_features_w_test.drop(columns=['test'], inplace=True)\n",
    "\n",
    "print(commit_level_features_w_test)\n",
    "\n"
   ]
  },
  {
   "cell_type": "code",
   "execution_count": 14,
   "metadata": {},
   "outputs": [
    {
     "name": "stdout",
     "output_type": "stream",
     "text": [
      "Ratio of success in TR:  0.2566274684649538 \n",
      "Ratio of success in SR:  0.9228482788088205\n"
     ]
    }
   ],
   "source": [
    "# Check so the ratios seem accurate\n",
    "ratio_1s_SR = commit_level_features_w_test['SR'].mean()\n",
    "ratio_1s_TR = commit_level_features_w_test['TR'].mean()\n",
    "\n",
    "print(\"Ratio of success in TR: \", ratio_1s_TR, \"\\nRatio of success in SR: \", ratio_1s_SR)"
   ]
  },
  {
   "cell_type": "code",
   "execution_count": 15,
   "metadata": {},
   "outputs": [],
   "source": [
    "# Save dataset in csv file. This csv includes the data utilized in the predictions, with test code refactoring\n",
    "# data included for the columns possible to retrieve easily\n",
    "commit_level_features_w_test.to_csv('commit_level_features_w_test_transformed.csv', index=False)"
   ]
  },
  {
   "cell_type": "code",
   "execution_count": 16,
   "metadata": {},
   "outputs": [],
   "source": [
    "# Columns used in the smaller DAG, showcasing the total effect\n",
    "columns_to_include = ['TR', 'SR', 'rightLocationDiff', \"rightLocationCount\"]"
   ]
  },
  {
   "cell_type": "code",
   "execution_count": 17,
   "metadata": {},
   "outputs": [
    {
     "name": "stdout",
     "output_type": "stream",
     "text": [
      "       TR  SR  rightLocationDiff  rightLocationCount\n",
      "0       1   0                191                  29\n",
      "1       1   0                 57                   4\n",
      "2       1   0                561                  55\n",
      "3       1   1                 99                  10\n",
      "4       1   1                219                  22\n",
      "...    ..  ..                ...                 ...\n",
      "53824   0   1                201                  11\n",
      "53825   0   1                171                   5\n",
      "53826   0   1                316                   8\n",
      "53827   0   1                180                  13\n",
      "53828   0   1                 95                   3\n",
      "\n",
      "[53829 rows x 4 columns]\n"
     ]
    }
   ],
   "source": [
    "# Creating a new dataframe including only the data for the columns just defined\n",
    "columns_total_effect = {col: commit_level_features_w_test[col] for col in columns_to_include}\n",
    "commit_level_features_w_test_subset = pd.DataFrame(columns_total_effect)\n",
    "\n",
    "print(commit_level_features_w_test_subset)\n"
   ]
  },
  {
   "cell_type": "code",
   "execution_count": 18,
   "metadata": {},
   "outputs": [],
   "source": [
    "# Save a csv file, similar to the previous but with only the four columns wanted for the total effect model\n",
    "commit_level_features_w_test_subset.to_csv('commit_level_features_w_test_transformed_small.csv', index=False)"
   ]
  }
 ],
 "metadata": {
  "kernelspec": {
   "display_name": "myenv",
   "language": "python",
   "name": "python3"
  },
  "language_info": {
   "codemirror_mode": {
    "name": "ipython",
    "version": 3
   },
   "file_extension": ".py",
   "mimetype": "text/x-python",
   "name": "python",
   "nbconvert_exporter": "python",
   "pygments_lexer": "ipython3",
   "version": "3.11.2"
  },
  "orig_nbformat": 4
 },
 "nbformat": 4,
 "nbformat_minor": 2
}
